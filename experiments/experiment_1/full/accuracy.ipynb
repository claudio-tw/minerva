{
 "cells": [
  {
   "cell_type": "code",
   "execution_count": null,
   "id": "3ea27168",
   "metadata": {},
   "outputs": [],
   "source": [
    "from pathlib import Path\n",
    "import pickle\n",
    "import pandas as pd\n",
    "import numpy as np\n",
    "from catboost import CatBoostRegressor\n",
    "from sklearn.model_selection import train_test_split\n",
    "from sklearn.metrics import r2_score\n",
    "\n",
    "import tools"
   ]
  },
  {
   "cell_type": "code",
   "execution_count": null,
   "id": "93b16a50",
   "metadata": {},
   "outputs": [],
   "source": [
    "n = 100000\n",
    "dy = 1\n",
    "num_cat_features = 10\n",
    "num_cont_features = 30\n",
    "feature_cols = [f'x{n}' for n in range(num_cat_features + num_cont_features)]\n",
    "cat_features = feature_cols[:num_cat_features]\n",
    "float_features = feature_cols[num_cat_features:]\n",
    "targets = [f'y{n}' for n in range(dy)]"
   ]
  },
  {
   "cell_type": "code",
   "execution_count": null,
   "id": "27bf817c",
   "metadata": {},
   "outputs": [],
   "source": [
    "data = pd.read_csv('data/large.csv')\n",
    "xdf = data.loc[:, feature_cols]\n",
    "x = xdf.values\n",
    "ydf = data.loc[:, targets]\n",
    "y = ydf.values\n",
    "store = pickle.load(open('data/store.exp2', 'rb'))"
   ]
  },
  {
   "cell_type": "markdown",
   "id": "d7fb13c1",
   "metadata": {},
   "source": [
    "5. Train-test split"
   ]
  },
  {
   "cell_type": "code",
   "execution_count": null,
   "id": "1306d15e",
   "metadata": {},
   "outputs": [],
   "source": [
    "X_train, X_test, y_train, y_test = train_test_split(\n",
    "    xdf,\n",
    "    ydf,\n",
    "    test_size=0.3,\n",
    "    random_state=40\n",
    ")"
   ]
  },
  {
   "cell_type": "code",
   "execution_count": null,
   "id": "3ba0eb82",
   "metadata": {},
   "outputs": [],
   "source": [
    "print(f'X_train.shape: {X_train.shape}')\n",
    "print(f'X_test.shape: {X_test.shape}')\n",
    "print(f'y_train.shape: {y_train.shape}')\n",
    "print(f'y_test.shape: {y_test.shape}')"
   ]
  },
  {
   "cell_type": "code",
   "execution_count": null,
   "id": "516d184a",
   "metadata": {},
   "outputs": [],
   "source": []
  },
  {
   "cell_type": "code",
   "execution_count": null,
   "id": "cabd758a",
   "metadata": {},
   "outputs": [],
   "source": [
    "expected_cat = store['expected_cat']\n",
    "expected_cont0  = store['expected_cont0']\n",
    "expected_cont1  = store['expected_cont1']\n",
    "expected_cont = store['expected_cont']\n",
    "expected_features = store['expected_features']"
   ]
  },
  {
   "cell_type": "code",
   "execution_count": null,
   "id": "cb9a6b38",
   "metadata": {},
   "outputs": [],
   "source": [
    "ksg_selection = np.array(\n",
    "    [14, 18, 19, 20, 23, 25, 28, 31, 34, 38]\n",
    ")"
   ]
  },
  {
   "cell_type": "code",
   "execution_count": null,
   "id": "187ddc86",
   "metadata": {},
   "outputs": [],
   "source": [
    "len(ksg_selection)"
   ]
  },
  {
   "cell_type": "code",
   "execution_count": null,
   "id": "00d5b3cf",
   "metadata": {},
   "outputs": [],
   "source": [
    "hsic_selection = np.array(\n",
    "    [4, 11, 14, 18, 19, 20, 23, 24, 28, 31]\n",
    ")"
   ]
  },
  {
   "cell_type": "code",
   "execution_count": null,
   "id": "456b7e20",
   "metadata": {},
   "outputs": [],
   "source": [
    "boruta_selection = np.array(\n",
    "    [14, 18, 19, 20, 23, 24, 28, 31]\n",
    ")"
   ]
  },
  {
   "cell_type": "code",
   "execution_count": null,
   "id": "6254d2ae",
   "metadata": {},
   "outputs": [],
   "source": [
    "minerva_selection = np.array(\n",
    "    [3, 5, 6, 8, 14, 18, 19, 20, 24, 28, 31]\n",
    ")"
   ]
  },
  {
   "cell_type": "markdown",
   "id": "747623f9",
   "metadata": {},
   "source": [
    "### Uncover relation between features and data"
   ]
  },
  {
   "cell_type": "code",
   "execution_count": null,
   "id": "ee30a68e",
   "metadata": {},
   "outputs": [],
   "source": [
    "_chooser = data.iloc[:, expected_cat[1]] == data.iloc[:, expected_cat[0]]\n",
    "idx0 = _chooser == 0\n",
    "idx1 = _chooser == 1\n",
    "y_ = np.zeros(shape=(len(data), dy))\n",
    "y_[idx0, :] = (\n",
    "    store['t0'] @ np.expand_dims(\n",
    "        np.sin(2 * np.pi * data.loc[idx0].iloc[:, expected_cont0]),\n",
    "axis=2))[:, :, 0]\n",
    "y_[idx1, :] = (\n",
    "    store['t1'] @ np.expand_dims(\n",
    "        np.cos(2 * np.pi * data.loc[idx1].iloc[:, expected_cont1]),\n",
    "axis=2))[:, :, 0]"
   ]
  },
  {
   "cell_type": "code",
   "execution_count": null,
   "id": "8cb13379",
   "metadata": {},
   "outputs": [],
   "source": [
    "assert np.allclose(np.squeeze(y_), data['y0'].values, atol=1e-6, rtol=1e-4)"
   ]
  },
  {
   "cell_type": "markdown",
   "id": "08d08390",
   "metadata": {},
   "source": [
    "### CatBoost parameters"
   ]
  },
  {
   "cell_type": "code",
   "execution_count": null,
   "id": "c6b6cb40",
   "metadata": {},
   "outputs": [],
   "source": [
    "params = {\n",
    "    \"iterations\": 150,\n",
    "    \"depth\": 8,\n",
    "    \"verbose\": 10,\n",
    "    'random_state': 40,\n",
    "    'verbose': False\n",
    "}"
   ]
  },
  {
   "cell_type": "markdown",
   "id": "2049ab13",
   "metadata": {},
   "source": [
    "## Accuracy of prediction based on all features"
   ]
  },
  {
   "cell_type": "code",
   "execution_count": null,
   "id": "a01cbd4d",
   "metadata": {
    "scrolled": true
   },
   "outputs": [],
   "source": [
    "model = CatBoostRegressor(**params) \n",
    "model.fit(X_train, y_train)"
   ]
  },
  {
   "cell_type": "code",
   "execution_count": null,
   "id": "a6c11522",
   "metadata": {},
   "outputs": [],
   "source": [
    "train_predictions = model.predict(X_train)\n",
    "test_predictions = model.predict(X_test)"
   ]
  },
  {
   "cell_type": "markdown",
   "id": "bc5d38dd",
   "metadata": {},
   "source": [
    "#### Performance assesment"
   ]
  },
  {
   "cell_type": "code",
   "execution_count": null,
   "id": "3a88a7db",
   "metadata": {},
   "outputs": [],
   "source": [
    "r2_insample = r2_score(y_true=y_train, y_pred=train_predictions)\n",
    "r2_outsample = r2_score(y_true=y_test, y_pred=test_predictions)\n",
    "print(f'In-sample R2 score: {r2_insample}')\n",
    "print(f'Out-sample R2 score: {r2_outsample}')"
   ]
  },
  {
   "cell_type": "markdown",
   "id": "954a661f",
   "metadata": {},
   "source": [
    "## Accuracy of prediction based on expected features"
   ]
  },
  {
   "cell_type": "code",
   "execution_count": null,
   "id": "b26279e6",
   "metadata": {},
   "outputs": [],
   "source": [
    "X_train_expected = X_train.iloc[:, expected_features]\n",
    "X_test_expected = X_test.iloc[:, expected_features]"
   ]
  },
  {
   "cell_type": "code",
   "execution_count": null,
   "id": "833d9dea",
   "metadata": {
    "scrolled": true
   },
   "outputs": [],
   "source": [
    "model_expected = CatBoostRegressor(**params) \n",
    "model_expected.fit(X_train_expected, y_train)"
   ]
  },
  {
   "cell_type": "code",
   "execution_count": null,
   "id": "c5c1715d",
   "metadata": {},
   "outputs": [],
   "source": [
    "train_predictions_expected = model_expected.predict(X_train_expected)\n",
    "test_predictions_expected = model_expected.predict(X_test_expected)"
   ]
  },
  {
   "cell_type": "markdown",
   "id": "99e3e4d3",
   "metadata": {},
   "source": [
    "#### Performance assesment"
   ]
  },
  {
   "cell_type": "code",
   "execution_count": null,
   "id": "7b33fd0e",
   "metadata": {},
   "outputs": [],
   "source": [
    "r2_insample_expected = r2_score(y_true=y_train, y_pred=train_predictions_expected)\n",
    "r2_outsample_expected = r2_score(y_true=y_test, y_pred=test_predictions_expected)\n",
    "print(f'In-sample R2 score with expected features: {r2_insample_expected}')\n",
    "print(f'Out-sample R2 score with expected features: {r2_outsample_expected}')"
   ]
  },
  {
   "cell_type": "markdown",
   "id": "7b9d5eaf",
   "metadata": {},
   "source": [
    "## Accuracy of prediction based on KSG selection"
   ]
  },
  {
   "cell_type": "code",
   "execution_count": null,
   "id": "52210d4b",
   "metadata": {},
   "outputs": [],
   "source": [
    "X_train_ksg = X_train.iloc[:, ksg_selection]\n",
    "X_test_ksg = X_test.iloc[:, ksg_selection]"
   ]
  },
  {
   "cell_type": "code",
   "execution_count": null,
   "id": "eadc204d",
   "metadata": {
    "scrolled": true
   },
   "outputs": [],
   "source": [
    "model_ksg = CatBoostRegressor(**params) \n",
    "model_ksg.fit(X_train_ksg, y_train)"
   ]
  },
  {
   "cell_type": "code",
   "execution_count": null,
   "id": "aa38ce5f",
   "metadata": {},
   "outputs": [],
   "source": [
    "train_predictions_ksg = model_ksg.predict(X_train_ksg)\n",
    "test_predictions_ksg = model_ksg.predict(X_test_ksg)"
   ]
  },
  {
   "cell_type": "markdown",
   "id": "45547b41",
   "metadata": {},
   "source": [
    "#### Performance assesment"
   ]
  },
  {
   "cell_type": "code",
   "execution_count": null,
   "id": "a3ee75a1",
   "metadata": {},
   "outputs": [],
   "source": [
    "r2_insample_ksg = r2_score(y_true=y_train, y_pred=train_predictions_ksg)\n",
    "r2_outsample_ksg = r2_score(y_true=y_test, y_pred=test_predictions_ksg)\n",
    "print(f'In-sample R2 score with KSG selection: {r2_insample_ksg}')\n",
    "print(f'Out-sample R2 score with KSG selection: {r2_outsample_ksg}')"
   ]
  },
  {
   "cell_type": "markdown",
   "id": "0b594079",
   "metadata": {},
   "source": [
    "## Accuracy of prediction based on HSIC selection"
   ]
  },
  {
   "cell_type": "code",
   "execution_count": null,
   "id": "1301474b",
   "metadata": {},
   "outputs": [],
   "source": [
    "X_train_hsic = X_train.iloc[:, hsic_selection]\n",
    "X_test_hsic = X_test.iloc[:, hsic_selection]"
   ]
  },
  {
   "cell_type": "code",
   "execution_count": null,
   "id": "2706895d",
   "metadata": {
    "scrolled": true
   },
   "outputs": [],
   "source": [
    "model_hsic = CatBoostRegressor(**params) \n",
    "model_hsic.fit(X_train_hsic, y_train)"
   ]
  },
  {
   "cell_type": "code",
   "execution_count": null,
   "id": "9cfcbd90",
   "metadata": {},
   "outputs": [],
   "source": [
    "train_predictions_hsic = model_hsic.predict(X_train_hsic)\n",
    "test_predictions_hsic = model_hsic.predict(X_test_hsic)"
   ]
  },
  {
   "cell_type": "markdown",
   "id": "618c308b",
   "metadata": {},
   "source": [
    "#### Performance assesment"
   ]
  },
  {
   "cell_type": "code",
   "execution_count": null,
   "id": "2ceeb65d",
   "metadata": {},
   "outputs": [],
   "source": [
    "r2_insample_hsic = r2_score(y_true=y_train, y_pred=train_predictions_hsic)\n",
    "r2_outsample_hsic = r2_score(y_true=y_test, y_pred=test_predictions_hsic)\n",
    "print(f'In-sample R2 score: {r2_insample_hsic}')\n",
    "print(f'Out-sample R2 score: {r2_outsample_hsic}')"
   ]
  },
  {
   "cell_type": "markdown",
   "id": "d53dd9d0",
   "metadata": {},
   "source": [
    "## Accuracy of prediction based on boruta selection"
   ]
  },
  {
   "cell_type": "code",
   "execution_count": null,
   "id": "55e66106",
   "metadata": {},
   "outputs": [],
   "source": [
    "X_train_boruta = X_train.iloc[:, boruta_selection]\n",
    "X_test_boruta = X_test.iloc[:, boruta_selection]"
   ]
  },
  {
   "cell_type": "code",
   "execution_count": null,
   "id": "34d45179",
   "metadata": {
    "scrolled": true
   },
   "outputs": [],
   "source": [
    "model_boruta = CatBoostRegressor(**params) \n",
    "model_boruta.fit(X_train_boruta, y_train)"
   ]
  },
  {
   "cell_type": "code",
   "execution_count": null,
   "id": "2d51c142",
   "metadata": {},
   "outputs": [],
   "source": [
    "train_predictions_boruta = model_boruta.predict(X_train_boruta)\n",
    "test_predictions_boruta = model_boruta.predict(X_test_boruta)"
   ]
  },
  {
   "cell_type": "markdown",
   "id": "000d75da",
   "metadata": {},
   "source": [
    "#### Performance assesment"
   ]
  },
  {
   "cell_type": "code",
   "execution_count": null,
   "id": "43d30ca3",
   "metadata": {},
   "outputs": [],
   "source": [
    "r2_insample_boruta = r2_score(y_true=y_train, y_pred=train_predictions_boruta)\n",
    "r2_outsample_boruta = r2_score(y_true=y_test, y_pred=test_predictions_boruta)\n",
    "print(f'In-sample R2 score: {r2_insample_boruta}')\n",
    "print(f'Out-sample R2 score: {r2_outsample_boruta}')"
   ]
  },
  {
   "cell_type": "markdown",
   "id": "8d10dcac",
   "metadata": {},
   "source": [
    "## Accuracy of prediction based on minerva selection"
   ]
  },
  {
   "cell_type": "code",
   "execution_count": null,
   "id": "4cc4707e",
   "metadata": {},
   "outputs": [],
   "source": [
    "X_train_minerva = X_train.iloc[:, minerva_selection]\n",
    "X_test_minerva = X_test.iloc[:, minerva_selection]"
   ]
  },
  {
   "cell_type": "code",
   "execution_count": null,
   "id": "1e979b3b",
   "metadata": {
    "scrolled": true
   },
   "outputs": [],
   "source": [
    "model_minerva = CatBoostRegressor(**params) \n",
    "model_minerva.fit(X_train_minerva, y_train)"
   ]
  },
  {
   "cell_type": "code",
   "execution_count": null,
   "id": "8a9099fe",
   "metadata": {},
   "outputs": [],
   "source": [
    "train_predictions_minerva = model_minerva.predict(X_train_minerva)\n",
    "test_predictions_minerva = model_minerva.predict(X_test_minerva)"
   ]
  },
  {
   "cell_type": "markdown",
   "id": "0b0e19d7",
   "metadata": {},
   "source": [
    "#### Performance assesment"
   ]
  },
  {
   "cell_type": "code",
   "execution_count": null,
   "id": "418ffc35",
   "metadata": {},
   "outputs": [],
   "source": [
    "r2_insample_minerva = r2_score(y_true=y_train, y_pred=train_predictions_minerva)\n",
    "r2_outsample_minerva = r2_score(y_true=y_test, y_pred=test_predictions_minerva)\n",
    "print(f'In-sample R2 score with minerva selection: {r2_insample_minerva}')\n",
    "print(f'Out-sample R2 score with minerva selection: {r2_outsample_minerva}')"
   ]
  }
 ],
 "metadata": {
  "kernelspec": {
   "display_name": "minervaexperiment",
   "language": "python",
   "name": "minervaexperiment"
  },
  "language_info": {
   "codemirror_mode": {
    "name": "ipython",
    "version": 3
   },
   "file_extension": ".py",
   "mimetype": "text/x-python",
   "name": "python",
   "nbconvert_exporter": "python",
   "pygments_lexer": "ipython3",
   "version": "3.9.15"
  }
 },
 "nbformat": 4,
 "nbformat_minor": 5
}
