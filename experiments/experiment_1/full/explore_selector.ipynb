{
 "cells": [
  {
   "cell_type": "code",
   "execution_count": null,
   "id": "08b82729",
   "metadata": {},
   "outputs": [],
   "source": [
    "import pickle\n",
    "import numpy as np\n",
    "import pandas as pd\n",
    "import torch\n",
    "from minerva.select import Selector\n",
    "import minerva"
   ]
  },
  {
   "cell_type": "code",
   "execution_count": null,
   "id": "ed6c00ad",
   "metadata": {},
   "outputs": [],
   "source": [
    "n = 100000\n",
    "n_samples = n\n",
    "dy = 1\n",
    "num_cat_features = 10\n",
    "num_cont_features = 30\n",
    "feature_cols = [f'x{n}' for n in range(\n",
    "    num_cat_features + num_cont_features)]\n",
    "cat_features = feature_cols[:num_cat_features]\n",
    "float_features = feature_cols[num_cat_features:]\n",
    "targets = [f'y{n}' for n in range(dy)]\n",
    "\n",
    "data = pd.read_csv('data/large.csv')\n",
    "xdf = data.loc[:, feature_cols]\n",
    "x = xdf.values\n",
    "ydf = data.loc[:, targets]\n",
    "y = ydf.values\n",
    "cat_feat_sizes = 1+data.loc[:, cat_features].max().values\n",
    "store = pickle.load(open('data/store.exp2', 'rb'))\n",
    "\n",
    "expected_cat = store['expected_cat']\n",
    "expected_cont0 = store['expected_cont0']\n",
    "expected_cont1 = store['expected_cont1']\n",
    "expected_cont = store['expected_cont']\n",
    "expected_features = store['expected_features']\n"
   ]
  },
  {
   "cell_type": "code",
   "execution_count": null,
   "id": "6143781e",
   "metadata": {},
   "outputs": [],
   "source": [
    "# Set hyperparameters\n",
    "dimension_of_residual_block = 512\n",
    "num_res_layers = 4\n",
    "scaler = 2\n",
    "batch_size = scaler*1200\n",
    "num_batches = n_samples // batch_size\n",
    "max_epochs = int(2000*scaler)\n",
    "lr = 5e-6\n",
    "emb_dim = 4\n",
    "reg_coef = 1e4\n",
    "\n",
    "# Pack hyperparameters\n",
    "selector_params = dict(\n",
    "    cat_features=cat_features,\n",
    "    float_features=float_features,\n",
    "    targets=targets,\n",
    "    dim1_max=dimension_of_residual_block,\n",
    "    lr=lr,\n",
    "    num_res_layers=num_res_layers,\n",
    "    eps=.001,\n",
    "    cat_feat_sizes=cat_feat_sizes,\n",
    "    emb_dim=emb_dim,\n",
    ")\n"
   ]
  },
  {
   "cell_type": "code",
   "execution_count": null,
   "id": "1abf3aae",
   "metadata": {},
   "outputs": [],
   "source": [
    "# Split train, validation, and test\n",
    "n_samples = len(data)\n",
    "train_size = int(.70 * n_samples)\n",
    "val_size = int(.25 * n_samples)\n",
    "test_size = n_samples - train_size - val_size\n",
    "train_data = data.iloc[:train_size]\n",
    "val_data = data.iloc[train_size: train_size + val_size]\n",
    "test_data = data.iloc[:-test_size]\n"
   ]
  },
  {
   "cell_type": "code",
   "execution_count": null,
   "id": "f7cc830e",
   "metadata": {},
   "outputs": [],
   "source": [
    "# Set dataloaders\n",
    "train_dataloader, val_dataloader, test_dataloader = minerva.feature_selection.dataloaders(\n",
    "    train_data=train_data,\n",
    "    val_data=val_data,\n",
    "    test_data=test_data,\n",
    "    float_features=float_features,\n",
    "    categorical_features=cat_features,\n",
    "    targets=targets,\n",
    "    batch_size=batch_size,\n",
    ")   "
   ]
  },
  {
   "cell_type": "code",
   "execution_count": null,
   "id": "e4ba8c3f",
   "metadata": {},
   "outputs": [],
   "source": [
    "load_path = 'data/run4/trained.model.7.0.0'"
   ]
  },
  {
   "cell_type": "code",
   "execution_count": null,
   "id": "acaef963",
   "metadata": {},
   "outputs": [],
   "source": [
    "selector = Selector(**selector_params)"
   ]
  },
  {
   "cell_type": "code",
   "execution_count": null,
   "id": "acd65cd2",
   "metadata": {},
   "outputs": [],
   "source": [
    "selector.load_state_dict(torch.load(load_path))"
   ]
  },
  {
   "cell_type": "code",
   "execution_count": null,
   "id": "1352b61f",
   "metadata": {},
   "outputs": [],
   "source": [
    "weights = selector.projection_weights()"
   ]
  },
  {
   "cell_type": "code",
   "execution_count": null,
   "id": "6a1d71c1",
   "metadata": {},
   "outputs": [],
   "source": [
    "print(f'weights:\\n{weights}\\n')\n",
    "print(f'expected_cat:\\n{expected_cat}\\n')\n",
    "print(f'expected_cont0:\\n{expected_cont0}\\n')\n",
    "print(f'expected_cont1:\\n{expected_cont1}\\n')\n",
    "print(f'expected_features:\\n{expected_features}\\n')\n",
    "print(f'Selected features:\\n{selector.selected_feature_names()}')"
   ]
  },
  {
   "cell_type": "code",
   "execution_count": null,
   "id": "be9427d1",
   "metadata": {},
   "outputs": [],
   "source": [
    "selector.set_loaders(train_dataloader, val_dataloader, test_dataloader)"
   ]
  },
  {
   "cell_type": "code",
   "execution_count": null,
   "id": "7a9a5436",
   "metadata": {},
   "outputs": [],
   "source": [
    "selector.val_mutual_information()"
   ]
  },
  {
   "cell_type": "code",
   "execution_count": null,
   "id": "c40de6ad",
   "metadata": {},
   "outputs": [],
   "source": [
    "weight_histories = []\n",
    "for s in range(1):\n",
    "    weight_histories.append(pd.read_csv(f'data/run4/weight_history_7_segment{s}.csv'))\n",
    "weight_history = pd.concat(weight_histories, axis=0, sort=True, ignore_index=True)\n",
    "weight_history.rename(\n",
    "    columns={c: 'x'+c for c in weight_history.columns},\n",
    "    inplace=True\n",
    ")\n",
    "sorted_cols = [f'x{n}' for n in range(weight_history.shape[1])]\n",
    "weight_history = weight_history[sorted_cols]"
   ]
  },
  {
   "cell_type": "code",
   "execution_count": null,
   "id": "80a18b4c",
   "metadata": {},
   "outputs": [],
   "source": [
    "weight_history.iloc[:, 0:10].plot(title='Weights of categorical features')"
   ]
  },
  {
   "cell_type": "code",
   "execution_count": null,
   "id": "fdecb094",
   "metadata": {},
   "outputs": [],
   "source": [
    "features = expected_cont\n",
    "weight_history.iloc[:, features].plot(title='Weights of expected cont features', figsize=(10, 7))"
   ]
  },
  {
   "cell_type": "code",
   "execution_count": null,
   "id": "a633ef13",
   "metadata": {},
   "outputs": [],
   "source": [
    "features = list(set(range(10, 40)).difference(set(expected_cont)))\n",
    "weight_history.iloc[:, features].plot(title='Weights of irrelevant cont features', figsize=(8, 6))"
   ]
  }
 ],
 "metadata": {
  "kernelspec": {
   "display_name": "exp2env",
   "language": "python",
   "name": "exp2env"
  },
  "language_info": {
   "codemirror_mode": {
    "name": "ipython",
    "version": 3
   },
   "file_extension": ".py",
   "mimetype": "text/x-python",
   "name": "python",
   "nbconvert_exporter": "python",
   "pygments_lexer": "ipython3",
   "version": "3.9.15"
  }
 },
 "nbformat": 4,
 "nbformat_minor": 5
}
