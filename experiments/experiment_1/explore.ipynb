{
 "cells": [
  {
   "cell_type": "code",
   "execution_count": 7,
   "id": "e072551b",
   "metadata": {},
   "outputs": [],
   "source": [
    "import numpy as np\n",
    "import pandas as pd\n",
    "import torch\n",
    "from minerva.select import Selector"
   ]
  },
  {
   "cell_type": "code",
   "execution_count": null,
   "id": "87ef5a47",
   "metadata": {},
   "outputs": [],
   "source": [
    "noreg = pd.read_csv('data/noreg_tblogs.csv')\n",
    "sel = pd.read_csv('data/sel_tblogs.csv')"
   ]
  },
  {
   "cell_type": "code",
   "execution_count": null,
   "id": "d1ac726d",
   "metadata": {},
   "outputs": [],
   "source": [
    "noreg.plot.line(subplots=True, title='No-regularisation training')"
   ]
  },
  {
   "cell_type": "code",
   "execution_count": null,
   "id": "b5f55516",
   "metadata": {},
   "outputs": [],
   "source": [
    "sel.plot.line(subplots=True, title='Selection training')"
   ]
  }
 ],
 "metadata": {
  "kernelspec": {
   "display_name": "exp1env",
   "language": "python",
   "name": "exp1env"
  },
  "language_info": {
   "codemirror_mode": {
    "name": "ipython",
    "version": 3
   },
   "file_extension": ".py",
   "mimetype": "text/x-python",
   "name": "python",
   "nbconvert_exporter": "python",
   "pygments_lexer": "ipython3",
   "version": "3.9.15"
  }
 },
 "nbformat": 4,
 "nbformat_minor": 5
}
