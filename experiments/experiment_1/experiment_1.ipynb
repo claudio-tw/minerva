{
 "cells": [
  {
   "cell_type": "code",
   "execution_count": null,
   "id": "802e8c73",
   "metadata": {},
   "outputs": [],
   "source": [
    "import numpy as np\n",
    "import pandas as pd\n",
    "import seaborn as sns\n",
    "import itertools\n",
    "from sklearn.metrics import adjusted_mutual_info_score\n",
    "from scipy.stats import special_ortho_group\n",
    "\n",
    "import tools"
   ]
  },
  {
   "cell_type": "code",
   "execution_count": null,
   "id": "41064b45",
   "metadata": {},
   "outputs": [],
   "source": [
    "d = 30\n",
    "df = pd.read_csv('data/data.csv')\n",
    "expected_features = np.array([10, 27])"
   ]
  },
  {
   "cell_type": "code",
   "execution_count": null,
   "id": "d1f2a263",
   "metadata": {},
   "outputs": [],
   "source": [
    "features = [f'f{n}' for n in range(d)]\n",
    "targets = ['y']\n",
    "xdf = df[features]\n",
    "ydf = df[targets]\n",
    "x = xdf.values\n",
    "y = ydf.values"
   ]
  },
  {
   "cell_type": "markdown",
   "id": "a6cd3f06",
   "metadata": {},
   "source": [
    "## Uncovering the dependence between target and features"
   ]
  },
  {
   "cell_type": "markdown",
   "id": "d035735e",
   "metadata": {},
   "source": [
    "We check that \n",
    "$$\n",
    "y =\n",
    "\\begin{cases}\n",
    "1 & \\text{  if } x_{k_{0}} = x_{k_{1}}\n",
    "\\\\\n",
    "0 & \\text { otherwise},\n",
    "\\end{cases}\n",
    "$$\n",
    "where $k_0 = 10$ and $k_1 = 27 $\n",
    "are the expected features.\n",
    "\n",
    "From the thirty features $0, \\dots, 29$ in `df`, our feature selection is correct if it keeps features 10 and 27, and it discards all others."
   ]
  },
  {
   "cell_type": "code",
   "execution_count": null,
   "id": "3ac4fa0c",
   "metadata": {},
   "outputs": [],
   "source": [
    "test = np.array(x[:, expected_features[0]] == x[:, expected_features[1]], dtype=int)\n",
    "assert np.all(test == y[:, 0])"
   ]
  },
  {
   "cell_type": "markdown",
   "id": "b2bdea13",
   "metadata": {},
   "source": [
    "## Preliminary check: expected features bear the highest information content"
   ]
  },
  {
   "cell_type": "markdown",
   "id": "6ab5e11a",
   "metadata": {},
   "source": [
    "Of all $d \\choose 2$ pairs of features, we check that the expected pair $(10, 27)$ has the highest mutual information with the target."
   ]
  },
  {
   "cell_type": "code",
   "execution_count": null,
   "id": "3d1459fb",
   "metadata": {},
   "outputs": [],
   "source": [
    "def onedimlabel(x):\n",
    "    assert x.ndim == 2\n",
    "    ns = np.amax(x, axis=0)\n",
    "    res = np.array(x[:, 0], copy=True)\n",
    "    m = 1\n",
    "    for i in range(1, x.shape[1]):\n",
    "        m *= max(1, ns[i-1])\n",
    "        res += (1+m) * x[:, i]\n",
    "    return res"
   ]
  },
  {
   "cell_type": "code",
   "execution_count": null,
   "id": "16a8e7f5",
   "metadata": {},
   "outputs": [],
   "source": [
    "l = 2\n",
    "miscores = {subset: \n",
    "           adjusted_mutual_info_score(onedimlabel(x[:, list(subset)]), y[:, 0])\n",
    "            for subset in itertools.combinations(list(range(d)), l)\n",
    "            \n",
    "}"
   ]
  },
  {
   "cell_type": "code",
   "execution_count": null,
   "id": "168eb38b",
   "metadata": {},
   "outputs": [],
   "source": [
    "s = (0,1)\n",
    "mi = 0\n",
    "for k, v in miscores.items():\n",
    "    if v > mi:\n",
    "        s = k\n",
    "        mi = v\n",
    "highest_info = s"
   ]
  },
  {
   "cell_type": "code",
   "execution_count": null,
   "id": "a14eb4e9",
   "metadata": {},
   "outputs": [],
   "source": [
    "print(f'Expected features: {sorted(expected_features)}')\n",
    "print(f'Pair of features with highest information content: {sorted(highest_info)}')"
   ]
  },
  {
   "cell_type": "markdown",
   "id": "e37502d7",
   "metadata": {},
   "source": [
    "### Selection with marginal 1D ksg mutual info"
   ]
  },
  {
   "cell_type": "code",
   "execution_count": null,
   "id": "139b18ff",
   "metadata": {},
   "outputs": [],
   "source": [
    "ksgselection, mis = tools.ksgmi(xdf, ydf, threshold=0.05)"
   ]
  },
  {
   "cell_type": "code",
   "execution_count": null,
   "id": "5ffca204",
   "metadata": {},
   "outputs": [],
   "source": [
    "print(f'Expected features: {sorted(expected_features)}')\n",
    "print(f'Marginal KSG selection: {sorted(ksgselection)}')"
   ]
  },
  {
   "cell_type": "markdown",
   "id": "c8906000",
   "metadata": {},
   "source": [
    "### Selection with HSIC Lasso"
   ]
  },
  {
   "cell_type": "markdown",
   "id": "6776b78e",
   "metadata": {},
   "source": [
    "### Selection with Boruta"
   ]
  },
  {
   "cell_type": "code",
   "execution_count": null,
   "id": "511abe4a",
   "metadata": {},
   "outputs": [],
   "source": [
    "from arfs.feature_selection import allrelevant\n",
    "from arfs.feature_selection.allrelevant import Leshy\n",
    "from sklearn.ensemble import RandomForestClassifier"
   ]
  },
  {
   "cell_type": "code",
   "execution_count": null,
   "id": "a02901e1",
   "metadata": {},
   "outputs": [],
   "source": [
    "n_estimators = 'auto'\n",
    "perc = 95\n",
    "alpha = 0.05\n",
    "importance = \"shap\"\n",
    "two_step = True\n",
    "max_iter = 100\n",
    "random_state = 1234\n",
    "verbose = 0\n",
    "keep_weak = False"
   ]
  },
  {
   "cell_type": "code",
   "execution_count": null,
   "id": "00081320",
   "metadata": {},
   "outputs": [],
   "source": [
    "xdf = pd.DataFrame(x, columns = [f'f{i}' for i in range(d)])\n",
    "yser = pd.Series(y[:, 0], name='y')"
   ]
  },
  {
   "cell_type": "code",
   "execution_count": null,
   "id": "3f456422",
   "metadata": {},
   "outputs": [],
   "source": [
    "rf = RandomForestClassifier(n_jobs=-1, max_depth=8)"
   ]
  },
  {
   "cell_type": "code",
   "execution_count": null,
   "id": "a36700a6",
   "metadata": {},
   "outputs": [],
   "source": [
    "leshy = Leshy(\n",
    "    rf,\n",
    "    n_estimators=n_estimators,\n",
    "    perc=perc,\n",
    "    alpha=alpha,\n",
    "    importance=importance,\n",
    "    two_step=two_step,\n",
    "    max_iter=max_iter,\n",
    "    random_state=random_state,\n",
    "    verbose=verbose,\n",
    "    keep_weak=keep_weak,\n",
    ")"
   ]
  },
  {
   "cell_type": "code",
   "execution_count": null,
   "id": "9613c874",
   "metadata": {},
   "outputs": [],
   "source": [
    "leshy.fit(xdf, yser)\n",
    "leshy_selection = [int(col.replace('f', '')) for col in leshy.selected_features_]"
   ]
  },
  {
   "cell_type": "code",
   "execution_count": null,
   "id": "c9056e56",
   "metadata": {},
   "outputs": [],
   "source": [
    "print(f'Expected features: {sorted(expected_features)}')\n",
    "print(f'Boruta selection: {sorted(leshy_selection)}')"
   ]
  },
  {
   "cell_type": "code",
   "execution_count": null,
   "id": "aa43d4ed",
   "metadata": {},
   "outputs": [],
   "source": []
  }
 ],
 "metadata": {
  "kernelspec": {
   "display_name": "exp1env",
   "language": "python",
   "name": "exp1env"
  },
  "language_info": {
   "codemirror_mode": {
    "name": "ipython",
    "version": 3
   },
   "file_extension": ".py",
   "mimetype": "text/x-python",
   "name": "python",
   "nbconvert_exporter": "python",
   "pygments_lexer": "ipython3",
   "version": "3.9.15"
  }
 },
 "nbformat": 4,
 "nbformat_minor": 5
}
