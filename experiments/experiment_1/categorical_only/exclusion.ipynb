{
 "cells": [
  {
   "cell_type": "code",
   "execution_count": null,
   "id": "802e8c73",
   "metadata": {},
   "outputs": [],
   "source": [
    "import numpy as np\n",
    "import pandas as pd\n",
    "import itertools\n",
    "from sklearn.metrics import mutual_info_score, adjusted_mutual_info_score\n",
    "import seaborn as sns\n",
    "\n",
    "import tools"
   ]
  },
  {
   "cell_type": "markdown",
   "id": "5ef1cb16",
   "metadata": {},
   "source": [
    "## Synthesize the data"
   ]
  },
  {
   "cell_type": "code",
   "execution_count": null,
   "id": "798f7c6d",
   "metadata": {},
   "outputs": [],
   "source": [
    "k = 5\n",
    "n = 10000\n",
    "d = 10"
   ]
  },
  {
   "cell_type": "code",
   "execution_count": null,
   "id": "50b99be8",
   "metadata": {},
   "outputs": [],
   "source": [
    "x0 = np.random.randint(k, size=(n, 1))\n",
    "x1 = np.random.randint(k, size=(n, 1))\n",
    "ms = np.random.randint(low=4, high=8, size = d-2)\n",
    "others = [np.random.choice(m, size=(n, 1)) for m in ms]\n",
    "all_ = np.concatenate(\n",
    "    [x0, x1] + others,\n",
    "    axis=1\n",
    ")\n",
    "y = np.asarray(x0 == x1, dtype=int) # k + x0 - x1 # np.asarray(x0 == x1, dtype=int)\n",
    "permuter =  np.random.permutation(np.eye(d, dtype=int).T).T\n",
    "x = np.array(all_ @ permuter, dtype=int)\n",
    "expected_features = [np.argmax(permuter[0, :]), np.argmax(permuter[1, :])]"
   ]
  },
  {
   "cell_type": "code",
   "execution_count": null,
   "id": "e6236e9e",
   "metadata": {},
   "outputs": [],
   "source": [
    "assert np.all(x[:, expected_features[0]] == x0[:, 0])\n",
    "assert np.all(x[:, expected_features[1]] == x1[:, 0])"
   ]
  },
  {
   "cell_type": "code",
   "execution_count": null,
   "id": "140b9f88",
   "metadata": {},
   "outputs": [],
   "source": [
    "xdf = pd.DataFrame(x, columns = [f'x{i}' for i in range(d)])\n",
    "ydf = pd.Series(y[:, 0], name='y')"
   ]
  },
  {
   "cell_type": "markdown",
   "id": "a6cd3f06",
   "metadata": {},
   "source": [
    "## Uncover the dependence between target and features"
   ]
  },
  {
   "cell_type": "markdown",
   "id": "d035735e",
   "metadata": {},
   "source": [
    "We check that \n",
    "$$\n",
    "y =\n",
    "\\begin{cases}\n",
    "1 & \\text{  if } x_{k_{0}} = x_{k_{1}}\n",
    "\\\\\n",
    "0 & \\text { otherwise},\n",
    "\\end{cases}\n",
    "$$\n",
    "where $k_0$ and $k_1 $\n",
    "are the expected features."
   ]
  },
  {
   "cell_type": "code",
   "execution_count": null,
   "id": "3ac4fa0c",
   "metadata": {},
   "outputs": [],
   "source": [
    "test = np.array(x[:, expected_features[0]] == x[:, expected_features[1]], dtype=int)\n",
    "assert np.all(test == y[:, 0])"
   ]
  },
  {
   "cell_type": "markdown",
   "id": "b2bdea13",
   "metadata": {},
   "source": [
    "## Preliminary check: expected features bear the highest information content"
   ]
  },
  {
   "cell_type": "markdown",
   "id": "6ab5e11a",
   "metadata": {},
   "source": [
    "Of all $d \\choose 2$ pairs of features, we check that the expected pair $\\lbrace k_0 , k_1 \\rbrace$ has the highest mutual information with the target."
   ]
  },
  {
   "cell_type": "code",
   "execution_count": null,
   "id": "16a8e7f5",
   "metadata": {},
   "outputs": [],
   "source": [
    "l = 2\n",
    "miscores = {subset: \n",
    "           adjusted_mutual_info_score(tools.onedimlabel(x[:, list(subset)]), y[:, 0])\n",
    "            for subset in itertools.combinations(list(range(d)), l)\n",
    "            \n",
    "}"
   ]
  },
  {
   "cell_type": "code",
   "execution_count": null,
   "id": "168eb38b",
   "metadata": {},
   "outputs": [],
   "source": [
    "s = (0,1)\n",
    "mi = 0\n",
    "for k, v in miscores.items():\n",
    "    if v > mi:\n",
    "        s = k\n",
    "        mi = v\n",
    "highest_info = s"
   ]
  },
  {
   "cell_type": "code",
   "execution_count": null,
   "id": "a14eb4e9",
   "metadata": {},
   "outputs": [],
   "source": [
    "print(f'Expected features: {sorted(expected_features)}')\n",
    "print(f'Pair of features with highest information content: {sorted(highest_info)}')"
   ]
  },
  {
   "cell_type": "markdown",
   "id": "e37502d7",
   "metadata": {},
   "source": [
    "### Selection with marginal 1D ksg mutual info"
   ]
  },
  {
   "cell_type": "code",
   "execution_count": null,
   "id": "139b18ff",
   "metadata": {},
   "outputs": [],
   "source": [
    "ksgselection, mis = tools.ksgmi(xdf, ydf, threshold=0.05)"
   ]
  },
  {
   "cell_type": "code",
   "execution_count": null,
   "id": "5ffca204",
   "metadata": {},
   "outputs": [],
   "source": [
    "print(f'Expected features: {sorted(expected_features)}')\n",
    "print(f'Marginal KSG selection: {sorted(ksgselection)}')"
   ]
  },
  {
   "cell_type": "markdown",
   "id": "6c7b1ba9",
   "metadata": {},
   "source": [
    "## Selection via exclusion "
   ]
  },
  {
   "cell_type": "code",
   "execution_count": null,
   "id": "fe31c2ca",
   "metadata": {},
   "outputs": [],
   "source": [
    "mi_estimator = mutual_info_score # or: adjusted_mutual_info_score"
   ]
  },
  {
   "cell_type": "code",
   "execution_count": null,
   "id": "8ad32845",
   "metadata": {},
   "outputs": [],
   "source": [
    "allfeatures_mi = mi_estimator(tools.onedimlabel(x), y[:, 0])"
   ]
  },
  {
   "cell_type": "code",
   "execution_count": null,
   "id": "99f56baa",
   "metadata": {},
   "outputs": [],
   "source": [
    "miscores_exclusions = {set(range(d)).difference(subset).pop(): \n",
    "           mi_estimator(tools.onedimlabel(x[:, list(subset)]), y[:, 0])\n",
    "            for subset in itertools.combinations(list(range(d)), d-1)\n",
    "            \n",
    "}"
   ]
  },
  {
   "cell_type": "code",
   "execution_count": null,
   "id": "a656e3d0",
   "metadata": {},
   "outputs": [],
   "source": [
    "mi_difference = {feature: excluded - allfeatures_mi for feature, excluded in miscores_exclusions.items()}\n",
    "scores = [mi_difference[i] for i in range(d)]"
   ]
  },
  {
   "cell_type": "code",
   "execution_count": null,
   "id": "1e95f4bf",
   "metadata": {},
   "outputs": [],
   "source": [
    "scores = pd.DataFrame({feature: [value] for feature, value in mi_difference.items()})\n",
    "scores.sort_index(axis=1, inplace=True)"
   ]
  },
  {
   "cell_type": "code",
   "execution_count": null,
   "id": "92270bf4",
   "metadata": {},
   "outputs": [],
   "source": [
    "scores"
   ]
  },
  {
   "cell_type": "code",
   "execution_count": null,
   "id": "009897ad",
   "metadata": {},
   "outputs": [],
   "source": [
    "sns.barplot(scores)"
   ]
  },
  {
   "cell_type": "code",
   "execution_count": null,
   "id": "6d9d03a1",
   "metadata": {},
   "outputs": [],
   "source": []
  }
 ],
 "metadata": {
  "kernelspec": {
   "display_name": "exp1env",
   "language": "python",
   "name": "exp1env"
  },
  "language_info": {
   "codemirror_mode": {
    "name": "ipython",
    "version": 3
   },
   "file_extension": ".py",
   "mimetype": "text/x-python",
   "name": "python",
   "nbconvert_exporter": "python",
   "pygments_lexer": "ipython3",
   "version": "3.9.15"
  }
 },
 "nbformat": 4,
 "nbformat_minor": 5
}
