{
 "cells": [
  {
   "cell_type": "code",
   "execution_count": null,
   "id": "304abd38",
   "metadata": {},
   "outputs": [],
   "source": [
    "import pandas as pd"
   ]
  },
  {
   "cell_type": "code",
   "execution_count": null,
   "id": "c4b01edf",
   "metadata": {},
   "outputs": [],
   "source": [
    "whs = []\n",
    "for n in range(3):\n",
    "    whs.append(\n",
    "        pd.read_csv(f'data/run2/expco_sel_weight_history_{n}.csv')\n",
    "    )"
   ]
  },
  {
   "cell_type": "code",
   "execution_count": null,
   "id": "f5ecd691",
   "metadata": {},
   "outputs": [],
   "source": [
    "df = pd.concat(whs, axis=0, ignore_index=True)"
   ]
  },
  {
   "cell_type": "code",
   "execution_count": null,
   "id": "709786fe",
   "metadata": {},
   "outputs": [],
   "source": [
    "df.plot()"
   ]
  },
  {
   "cell_type": "code",
   "execution_count": null,
   "id": "fb8ec35f",
   "metadata": {},
   "outputs": [],
   "source": []
  }
 ],
 "metadata": {
  "kernelspec": {
   "display_name": "minervaexperiment",
   "language": "python",
   "name": "minervaexperiment"
  },
  "language_info": {
   "codemirror_mode": {
    "name": "ipython",
    "version": 3
   },
   "file_extension": ".py",
   "mimetype": "text/x-python",
   "name": "python",
   "nbconvert_exporter": "python",
   "pygments_lexer": "ipython3",
   "version": "3.9.15"
  }
 },
 "nbformat": 4,
 "nbformat_minor": 5
}
