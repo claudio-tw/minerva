{
 "cells": [
  {
   "cell_type": "code",
   "execution_count": null,
   "id": "3ea27168",
   "metadata": {},
   "outputs": [],
   "source": [
    "from pathlib import Path\n",
    "import pickle\n",
    "import pandas as pd\n",
    "import numpy as np\n",
    "import torch\n",
    "\n",
    "import tools"
   ]
  },
  {
   "cell_type": "code",
   "execution_count": null,
   "id": "93b16a50",
   "metadata": {},
   "outputs": [],
   "source": [
    "n = 100000\n",
    "dy = 1\n",
    "num_cat_features = 10\n",
    "num_cont_features = 30\n",
    "feature_cols = [f'x{n}' for n in range(num_cat_features + num_cont_features)]\n",
    "cat_features = feature_cols[:num_cat_features]\n",
    "float_features = feature_cols[num_cat_features:]\n",
    "targets = [f'y{n}' for n in range(dy)]"
   ]
  },
  {
   "cell_type": "code",
   "execution_count": null,
   "id": "27bf817c",
   "metadata": {},
   "outputs": [],
   "source": [
    "data = pd.read_csv('data/large.csv')\n",
    "xdf = data.loc[:, feature_cols]\n",
    "x = xdf.values\n",
    "ydf = data.loc[:, targets]\n",
    "y = ydf.values\n",
    "store = pickle.load(open('data/store.exp2', 'rb'))"
   ]
  },
  {
   "cell_type": "code",
   "execution_count": null,
   "id": "cabd758a",
   "metadata": {},
   "outputs": [],
   "source": [
    "expected_cat = store['expected_cat']\n",
    "expected_cont0  = store['expected_cont0']\n",
    "expected_cont1  = store['expected_cont1']\n",
    "expected_cont = store['expected_cont']\n",
    "expected_features = store['expected_features']"
   ]
  },
  {
   "cell_type": "markdown",
   "id": "747623f9",
   "metadata": {},
   "source": [
    "### Uncover relation between features and data"
   ]
  },
  {
   "cell_type": "code",
   "execution_count": null,
   "id": "ee30a68e",
   "metadata": {},
   "outputs": [],
   "source": [
    "_chooser = data.iloc[:, expected_cat[1]] == data.iloc[:, expected_cat[0]]\n",
    "idx0 = _chooser == 0\n",
    "idx1 = _chooser == 1\n",
    "y_ = np.zeros(shape=(len(data), dy))\n",
    "y_[idx0, :] = (\n",
    "    store['t0'] @ np.expand_dims(\n",
    "        np.sin(2 * np.pi * data.loc[idx0].iloc[:, expected_cont0]),\n",
    "axis=2))[:, :, 0]\n",
    "y_[idx1, :] = (\n",
    "    store['t1'] @ np.expand_dims(\n",
    "        np.cos(2 * np.pi * data.loc[idx1].iloc[:, expected_cont1]),\n",
    "axis=2))[:, :, 0]"
   ]
  },
  {
   "cell_type": "code",
   "execution_count": null,
   "id": "8cb13379",
   "metadata": {},
   "outputs": [],
   "source": [
    "assert np.allclose(np.squeeze(y_), data['y0'].values, atol=1e-6, rtol=1e-4)"
   ]
  },
  {
   "cell_type": "markdown",
   "id": "250ca05d",
   "metadata": {},
   "source": [
    "### Selection with Boruta"
   ]
  },
  {
   "cell_type": "code",
   "execution_count": null,
   "id": "33052e79",
   "metadata": {},
   "outputs": [],
   "source": [
    "from arfs.feature_selection import allrelevant\n",
    "from arfs.feature_selection.allrelevant import Leshy\n",
    "from xgboost import XGBRegressor"
   ]
  },
  {
   "cell_type": "code",
   "execution_count": null,
   "id": "4964ca99",
   "metadata": {},
   "outputs": [],
   "source": [
    "n_estimators = 'auto'\n",
    "importance = \"native\"\n",
    "max_iter = 100\n",
    "random_state = None\n",
    "verbose = 0\n",
    "keep_weak = False"
   ]
  },
  {
   "cell_type": "code",
   "execution_count": null,
   "id": "39d5cd7a",
   "metadata": {},
   "outputs": [],
   "source": [
    "xdf = pd.DataFrame(x, columns = [f'f{i}' for i in range(num_cat_features + num_cont_features)])\n",
    "yser = pd.Series(y[:, 0], name='y')"
   ]
  },
  {
   "cell_type": "code",
   "execution_count": null,
   "id": "cb5b383c",
   "metadata": {},
   "outputs": [],
   "source": [
    "regressor = XGBRegressor(random_state=42)"
   ]
  },
  {
   "cell_type": "code",
   "execution_count": null,
   "id": "41754a83",
   "metadata": {},
   "outputs": [],
   "source": [
    "leshy = Leshy(\n",
    "    regressor,\n",
    "    n_estimators=n_estimators,\n",
    "    importance=importance,\n",
    "    max_iter=max_iter,\n",
    "    random_state=random_state,\n",
    "    verbose=verbose,\n",
    "    keep_weak=keep_weak,\n",
    ")"
   ]
  },
  {
   "cell_type": "code",
   "execution_count": null,
   "id": "659e02c9",
   "metadata": {},
   "outputs": [],
   "source": [
    "leshy.fit(xdf, yser)\n",
    "leshy_selection = [int(col.replace('f', '')) for col in leshy.selected_features_]"
   ]
  },
  {
   "cell_type": "code",
   "execution_count": null,
   "id": "8964311b",
   "metadata": {},
   "outputs": [],
   "source": [
    "print(f'Expected features: {sorted(expected_features)}')\n",
    "print(f'Boruta selection: {sorted(leshy_selection)}')"
   ]
  }
 ],
 "metadata": {
  "kernelspec": {
   "display_name": "exp2env",
   "language": "python",
   "name": "exp2env"
  },
  "language_info": {
   "codemirror_mode": {
    "name": "ipython",
    "version": 3
   },
   "file_extension": ".py",
   "mimetype": "text/x-python",
   "name": "python",
   "nbconvert_exporter": "python",
   "pygments_lexer": "ipython3",
   "version": "3.9.15"
  }
 },
 "nbformat": 4,
 "nbformat_minor": 5
}
