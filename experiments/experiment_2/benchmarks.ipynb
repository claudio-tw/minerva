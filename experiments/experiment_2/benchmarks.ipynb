{
 "cells": [
  {
   "cell_type": "code",
   "execution_count": null,
   "id": "3ea27168",
   "metadata": {},
   "outputs": [],
   "source": [
    "from pathlib import Path\n",
    "import pickle\n",
    "import pandas as pd\n",
    "import numpy as np\n",
    "import torch\n",
    "\n",
    "import tools"
   ]
  },
  {
   "cell_type": "code",
   "execution_count": null,
   "id": "93b16a50",
   "metadata": {},
   "outputs": [],
   "source": [
    "n = 50000\n",
    "dy = 1\n",
    "num_cat_features = 10\n",
    "num_cont_features = 30\n",
    "feature_cols = [f'x{n}' for n in range(num_cat_features + num_cont_features)]\n",
    "cat_features = feature_cols[:num_cat_features]\n",
    "float_features = feature_cols[num_cat_features:]\n",
    "targets = [f'y{n}' for n in range(dy)]"
   ]
  },
  {
   "cell_type": "code",
   "execution_count": null,
   "id": "27bf817c",
   "metadata": {},
   "outputs": [],
   "source": [
    "data = pd.read_csv('data/large.csv')\n",
    "xdf = data.loc[:, feature_cols]\n",
    "x = xdf.values\n",
    "ydf = data.loc[:, targets]\n",
    "y = ydf.values\n",
    "store = pickle.load(open('data/store.exp1', 'rb'))"
   ]
  },
  {
   "cell_type": "code",
   "execution_count": null,
   "id": "cabd758a",
   "metadata": {},
   "outputs": [],
   "source": [
    "expected_cat = store['expected_cat']\n",
    "expected_cont0  = store['expected_cont0']\n",
    "expected_cont1  = store['expected_cont1']\n",
    "expected_cont = store['expected_cont']\n",
    "expected_features = store['expected_features']"
   ]
  },
  {
   "cell_type": "markdown",
   "id": "747623f9",
   "metadata": {},
   "source": [
    "### Uncover relation between features and data"
   ]
  },
  {
   "cell_type": "code",
   "execution_count": null,
   "id": "ee30a68e",
   "metadata": {},
   "outputs": [],
   "source": [
    "_chooser = data.iloc[:, expected_cat[1]] == data.iloc[:, expected_cat[0]]\n",
    "idx0 = _chooser == 0\n",
    "idx1 = _chooser == 1\n",
    "y_ = np.zeros(shape=(len(data), dy))\n",
    "y_[idx0, :] = (\n",
    "    store['t0'] @ np.expand_dims(\n",
    "        np.sin(2 * np.pi * data.loc[idx0].iloc[:, expected_cont0]),\n",
    "axis=2))[:, :, 0]\n",
    "y_[idx1, :] = (\n",
    "    store['t1'] @ np.expand_dims(\n",
    "        np.cos(2 * np.pi * data.loc[idx1].iloc[:, expected_cont1]),\n",
    "axis=2))[:, :, 0]"
   ]
  },
  {
   "cell_type": "code",
   "execution_count": null,
   "id": "8cb13379",
   "metadata": {},
   "outputs": [],
   "source": [
    "assert np.allclose(np.squeeze(y_), data['y0'].values, atol=1e-6, rtol=1e-4)"
   ]
  },
  {
   "cell_type": "markdown",
   "id": "e37502d7",
   "metadata": {},
   "source": [
    "### Selection with marginal 1D ksg mutual info"
   ]
  },
  {
   "cell_type": "code",
   "execution_count": null,
   "id": "139b18ff",
   "metadata": {},
   "outputs": [],
   "source": [
    "ksgselection, mis = tools.ksgmi(xdf, ydf, threshold=0.01)"
   ]
  },
  {
   "cell_type": "code",
   "execution_count": null,
   "id": "5ffca204",
   "metadata": {},
   "outputs": [],
   "source": [
    "print(f'Expected features: {sorted(expected_features)}')\n",
    "print(f'Marginal KSG selection: {sorted(ksgselection)}')"
   ]
  },
  {
   "cell_type": "markdown",
   "id": "c8906000",
   "metadata": {},
   "source": [
    "### Selection with HSIC Lasso"
   ]
  },
  {
   "cell_type": "code",
   "execution_count": null,
   "id": "af05a58e",
   "metadata": {},
   "outputs": [],
   "source": [
    "xfeattype = tools.FeatureType.FLOAT\n",
    "yfeattype = tools.FeatureType.FLOAT\n",
    "hsiclasso_selection = tools.pyhsiclasso(\n",
    "    x, y, xfeattype=xfeattype, yfeattype=yfeattype, n_features=10, batch_size=500)"
   ]
  },
  {
   "cell_type": "code",
   "execution_count": null,
   "id": "ac8eb111",
   "metadata": {},
   "outputs": [],
   "source": [
    "print(f'Expected features: {sorted(expected_features)}')\n",
    "print(f'HSIC Lasso selection: {sorted(hsiclasso_selection)}')"
   ]
  }
 ],
 "metadata": {
  "kernelspec": {
   "display_name": "exp2env",
   "language": "python",
   "name": "exp2env"
  },
  "language_info": {
   "codemirror_mode": {
    "name": "ipython",
    "version": 3
   },
   "file_extension": ".py",
   "mimetype": "text/x-python",
   "name": "python",
   "nbconvert_exporter": "python",
   "pygments_lexer": "ipython3",
   "version": "3.9.15"
  }
 },
 "nbformat": 4,
 "nbformat_minor": 5
}
