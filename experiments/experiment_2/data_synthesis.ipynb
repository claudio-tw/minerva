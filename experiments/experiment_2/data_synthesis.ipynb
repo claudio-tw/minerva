{
 "cells": [
  {
   "cell_type": "code",
   "execution_count": 1,
   "id": "8a8723c7",
   "metadata": {},
   "outputs": [],
   "source": [
    "import numpy as np\n",
    "import pandas as pd"
   ]
  },
  {
   "cell_type": "markdown",
   "id": "50746111",
   "metadata": {},
   "source": [
    "### Synthesize the data"
   ]
  },
  {
   "cell_type": "code",
   "execution_count": 2,
   "id": "62500056",
   "metadata": {},
   "outputs": [],
   "source": [
    "# Parameters for the synthetis of data\n",
    "n = 50000\n",
    "num_cont_features = 30\n",
    "num_cat_features = 10\n",
    "num_cont_relevant = 4\n",
    "dy = 1 \n",
    "train_size = int(.66 * n)\n",
    "val_size = int(.15 * n)\n",
    "test_size = n - train_size - val_size"
   ]
  },
  {
   "cell_type": "code",
   "execution_count": 3,
   "id": "a51473ac",
   "metadata": {},
   "outputs": [],
   "source": [
    "m = 5\n",
    "x0 = np.random.randint(m, size=(n, 1))\n",
    "x1 = np.random.randint(m, size=(n, 1))\n",
    "others = np.random.randint(m, size=(n, num_cat_features - 2))\n",
    "all_ = np.concatenate(\n",
    "    [x0, x1, others],\n",
    "    axis=1\n",
    ")\n",
    "chooser = np.asarray(x0[:, 0] == x1[:, 0], dtype=int) # k + x0 - x1 # np.asarray(x0 == x1, dtype=int)\n",
    "permuter =  np.random.permutation(np.eye(num_cat_features, dtype=int).T).T\n",
    "xcat = np.array(all_ @ permuter, dtype=int)\n",
    "expected_cat = sorted([np.argmax(permuter[0, :]), np.argmax(permuter[1, :])])"
   ]
  },
  {
   "cell_type": "code",
   "execution_count": 4,
   "id": "7fb75709",
   "metadata": {},
   "outputs": [],
   "source": [
    "xcont = np.random.uniform(size=(n, num_cont_features))\n",
    "expected0 = np.sort(np.random.choice(num_cont_features, replace=False, size=num_cont_relevant))\n",
    "expected1 = np.sort(np.random.choice(num_cont_features, replace=False, size=num_cont_relevant))\n",
    "exps = [expected0, expected1]"
   ]
  },
  {
   "cell_type": "code",
   "execution_count": 5,
   "id": "cff8fca4",
   "metadata": {},
   "outputs": [],
   "source": [
    "expected_cont = list(num_cat_features + np.sort(np.array(list(set(list(expected0) + list(expected1))))))\n",
    "t0 = np.random.uniform(low=-1., high=1., size=(1, dy, num_cont_relevant))\n",
    "t1 = np.random.uniform(low=-1., high=1., size=(1, dy, num_cont_relevant))\n",
    "ts = [t0, t1]\n",
    "y = np.zeros(shape=(n, dy))\n",
    "idx0 = chooser == 0\n",
    "idx1 = chooser == 1\n",
    "y[idx0, :] = (t0 @ np.expand_dims(np.sin(2 * np.pi * xcont[idx0][:, expected0]), axis=2))[:, :, 0]\n",
    "y[idx1, :] = (t1 @ np.expand_dims(np.cos(2 * np.pi * xcont[idx1][:, expected1]), axis=2))[:, :, 0]"
   ]
  },
  {
   "cell_type": "code",
   "execution_count": 6,
   "id": "16256fee",
   "metadata": {},
   "outputs": [],
   "source": [
    "x = np.concatenate((xcat, xcont), axis=1)"
   ]
  },
  {
   "cell_type": "code",
   "execution_count": 7,
   "id": "bdf83608",
   "metadata": {},
   "outputs": [],
   "source": [
    "expected_features = expected_cat + expected_cont\n",
    "feature_cols = [f'x{n}' for n in range(num_cat_features + num_cont_features)]\n",
    "cat_features = feature_cols[:num_cat_features]\n",
    "float_features = feature_cols[num_cat_features:]\n",
    "targets = [f'y{n}' for n in range(dy)]\n",
    "targets = targets\n",
    "xdfcat = pd.DataFrame(\n",
    "    xcat,\n",
    "    columns=cat_features\n",
    ")\n",
    "xdfcont = pd.DataFrame(\n",
    "    xcont,\n",
    "    columns=float_features\n",
    ")\n",
    "xdf = pd.concat((xdfcat, xdfcont), axis=1)\n",
    "ydf = pd.DataFrame(\n",
    "    y,\n",
    "    columns=targets\n",
    ")\n",
    "data = pd.concat((xdf, ydf), axis=1)\n",
    "train_data = data.iloc[:train_size]\n",
    "val_data = data.iloc[train_size: train_size + val_size]\n",
    "test_data = data.iloc[train_size + val_size:]"
   ]
  }
 ],
 "metadata": {
  "kernelspec": {
   "display_name": "exp2env",
   "language": "python",
   "name": "exp2env"
  },
  "language_info": {
   "codemirror_mode": {
    "name": "ipython",
    "version": 3
   },
   "file_extension": ".py",
   "mimetype": "text/x-python",
   "name": "python",
   "nbconvert_exporter": "python",
   "pygments_lexer": "ipython3",
   "version": "3.9.15"
  }
 },
 "nbformat": 4,
 "nbformat_minor": 5
}
