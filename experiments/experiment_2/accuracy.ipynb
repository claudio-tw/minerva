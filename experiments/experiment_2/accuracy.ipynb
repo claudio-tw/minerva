{
 "cells": [
  {
   "cell_type": "code",
   "execution_count": null,
   "id": "0e5c9d13",
   "metadata": {},
   "outputs": [],
   "source": [
    "from pathlib import Path\n",
    "import pickle\n",
    "import pandas as pd\n",
    "import numpy as np\n",
    "import torch\n",
    "from xgboost import XGBRegressor\n",
    "from catboost import CatBoostRegressor\n",
    "from sklearn.model_selection import train_test_split\n",
    "from sklearn.metrics import r2_score\n",
    "import matplotlib.pyplot as plt\n",
    "\n",
    "from experiment_2 import utils\n",
    "from data.benchmark_selection import ksg_selection, hsic_selection, boruta_selection\n",
    "from data.minerva_selection import minerva_selection_1"
   ]
  },
  {
   "cell_type": "code",
   "execution_count": null,
   "id": "c5766ecf",
   "metadata": {},
   "outputs": [],
   "source": [
    "dataset_path = 'data/exp2.csv' # or 'data/exp2filtered.csv'"
   ]
  },
  {
   "cell_type": "code",
   "execution_count": null,
   "id": "7dbbcd27",
   "metadata": {},
   "outputs": [],
   "source": [
    "xdf, ydf, float_features, cat_features, targets = utils.load_data(dataset_path)\n",
    "X_train, X_test, y_train, y_test = train_test_split(\n",
    "    xdf,\n",
    "    ydf,\n",
    "    test_size=0.2,\n",
    "    random_state=None\n",
    ")\n",
    "X_train, X_val, y_train, y_val = train_test_split(\n",
    "    xdf,\n",
    "    ydf,\n",
    "    test_size=0.3,\n",
    "    random_state=None\n",
    ")\n",
    "print(f'X_train.shape: {X_train.shape}')\n",
    "print(f'X_val.shape: {X_val.shape}')\n",
    "print(f'X_test.shape: {X_test.shape}')\n",
    "print(f'y_train.shape: {y_train.shape}')\n",
    "print(f'y_val.shape: {y_val.shape}')\n",
    "print(f'y_test.shape: {y_test.shape}')"
   ]
  },
  {
   "cell_type": "markdown",
   "id": "8be52275",
   "metadata": {},
   "source": [
    "### CatBoost parameters"
   ]
  },
  {
   "cell_type": "code",
   "execution_count": null,
   "id": "4ceaf881",
   "metadata": {},
   "outputs": [],
   "source": [
    "params = { \n",
    "    \"iterations\": 5000,\n",
    "    \"depth\": 8,\n",
    "    'random_state': 15, \n",
    "    'verbose': False\n",
    "}   "
   ]
  },
  {
   "cell_type": "code",
   "execution_count": null,
   "id": "47872d45",
   "metadata": {},
   "outputs": [],
   "source": [
    "def train_and_evaluate(X_train, y_train, X_val, y_val, X_test, y_test, selection=None):\n",
    "    if selection is None:\n",
    "        selection = X_train.columns.tolist()\n",
    "    x_train = X_train.loc[:, selection].copy()\n",
    "    x_val = X_val.loc[:, selection].copy()\n",
    "    x_test = X_test.loc[:, selection].copy()\n",
    "    model = CatBoostRegressor(**params)\n",
    "    model.fit(x_train, y_train, eval_set=(x_val, y_val), early_stopping_rounds=20)\n",
    "    train_predictions = model.predict(x_train)\n",
    "    test_predictions = model.predict(x_test)\n",
    "    r2_insample = r2_score(y_true=y_train, y_pred=train_predictions)\n",
    "    r2_outsample = r2_score(y_true=y_test, y_pred=test_predictions)\n",
    "    return r2_insample, r2_outsample"
   ]
  },
  {
   "cell_type": "markdown",
   "id": "f2a84b39",
   "metadata": {},
   "source": [
    "## Accuracy of prediction based on all features"
   ]
  },
  {
   "cell_type": "code",
   "execution_count": null,
   "id": "248746e3",
   "metadata": {
    "scrolled": true
   },
   "outputs": [],
   "source": [
    "r2_insample, r2_outsample = train_and_evaluate(\n",
    "    X_train, y_train,\n",
    "    X_val, y_val,\n",
    "    X_test, y_test,\n",
    "    selection=None\n",
    ")\n",
    "print(f'In-sample R2 score: {r2_insample}')\n",
    "print(f'Out-sample R2 score: {r2_outsample}')"
   ]
  },
  {
   "cell_type": "markdown",
   "id": "3098c67e",
   "metadata": {},
   "source": [
    "## Accuracy of prediction based on KSG selection"
   ]
  },
  {
   "cell_type": "code",
   "execution_count": null,
   "id": "8d6b728f",
   "metadata": {},
   "outputs": [],
   "source": [
    "r2_insample_ksg, r2_outsample_ksg = train_and_evaluate(\n",
    "    X_train, y_train,\n",
    "    X_val, y_val,\n",
    "    X_test, y_test,\n",
    "    selection=ksg_selection,\n",
    ")\n",
    "print(f'In-sample R2 score with KSG selection: {r2_insample_ksg}')\n",
    "print(f'Out-sample R2 score with KSG selection: {r2_outsample_ksg}')"
   ]
  },
  {
   "cell_type": "markdown",
   "id": "3194de40",
   "metadata": {},
   "source": [
    "## Accuracy of prediction based on HSIC selection"
   ]
  },
  {
   "cell_type": "code",
   "execution_count": null,
   "id": "d6aa82a5",
   "metadata": {},
   "outputs": [],
   "source": [
    "r2_insample_hsic, r2_outsample_hsic = train_and_evaluate(\n",
    "    X_train, y_train,\n",
    "    X_val, y_val,\n",
    "    X_test, y_test,\n",
    "    selection=hsic_selection,\n",
    ")\n",
    "print(f'In-sample R2 score: {r2_insample_hsic}')\n",
    "print(f'Out-sample R2 score: {r2_outsample_hsic}')"
   ]
  },
  {
   "cell_type": "markdown",
   "id": "87a29040",
   "metadata": {},
   "source": [
    "## Accuracy of prediction based on boruta selection"
   ]
  },
  {
   "cell_type": "code",
   "execution_count": null,
   "id": "05b2e27c",
   "metadata": {},
   "outputs": [],
   "source": [
    "r2_insample_boruta, r2_outsample_boruta = train_and_evaluate(\n",
    "    X_train, y_train,\n",
    "    X_val, y_val,\n",
    "    X_test, y_test,\n",
    "    selection=boruta_selection,\n",
    ")\n",
    "print(f'In-sample R2 score: {r2_insample_boruta}')\n",
    "print(f'Out-sample R2 score: {r2_outsample_boruta}')"
   ]
  },
  {
   "cell_type": "markdown",
   "id": "785ad8aa",
   "metadata": {},
   "source": [
    "## Accuracy of prediction based on minerva selection"
   ]
  },
  {
   "cell_type": "code",
   "execution_count": null,
   "id": "f5f7ab88",
   "metadata": {},
   "outputs": [],
   "source": [
    "r2_insample_minerva, r2_outsample_minerva = train_and_evaluate(\n",
    "    X_train, y_train,\n",
    "    X_val, y_val,\n",
    "    X_test, y_test,\n",
    "    selection=minerva_selection_1\n",
    ")\n",
    "print(f'In-sample R2 score: {r2_insample_minerva}')\n",
    "print(f'Out-sample R2 score: {r2_outsample_minerva}')"
   ]
  },
  {
   "cell_type": "code",
   "execution_count": null,
   "id": "85d09235",
   "metadata": {},
   "outputs": [],
   "source": []
  }
 ],
 "metadata": {
  "kernelspec": {
   "display_name": "minervaexperiment",
   "language": "python",
   "name": "minervaexperiment"
  },
  "language_info": {
   "codemirror_mode": {
    "name": "ipython",
    "version": 3
   },
   "file_extension": ".py",
   "mimetype": "text/x-python",
   "name": "python",
   "nbconvert_exporter": "python",
   "pygments_lexer": "ipython3",
   "version": "3.9.15"
  }
 },
 "nbformat": 4,
 "nbformat_minor": 5
}
