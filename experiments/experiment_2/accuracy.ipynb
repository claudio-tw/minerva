{
 "cells": [
  {
   "cell_type": "code",
   "execution_count": null,
   "id": "0e5c9d13",
   "metadata": {},
   "outputs": [],
   "source": [
    "from pathlib import Path\n",
    "import pickle\n",
    "import pandas as pd\n",
    "import numpy as np\n",
    "import torch\n",
    "from xgboost import XGBRegressor\n",
    "from catboost import CatBoostRegressor\n",
    "from sklearn.model_selection import train_test_split\n",
    "from sklearn.metrics import r2_score\n",
    "\n",
    "from experiment_2 import utils\n",
    "from data.benchmark_selection import ksg_selection, hsic_selection, boruta_selection"
   ]
  },
  {
   "cell_type": "code",
   "execution_count": null,
   "id": "7dbbcd27",
   "metadata": {},
   "outputs": [],
   "source": [
    "xdf, ydf, float_features, cat_features, targets = utils.load_data()\n",
    "X_train, X_test, y_train, y_test = train_test_split(\n",
    "    xdf,\n",
    "    ydf,\n",
    "    test_size=0.3,\n",
    "    random_state=40\n",
    ")   \n",
    "print(f'X_train.shape: {X_train.shape}')\n",
    "print(f'X_test.shape: {X_test.shape}')\n",
    "print(f'y_train.shape: {y_train.shape}')\n",
    "print(f'y_test.shape: {y_test.shape}')\n"
   ]
  },
  {
   "cell_type": "markdown",
   "id": "8be52275",
   "metadata": {},
   "source": [
    "### CatBoost parameters"
   ]
  },
  {
   "cell_type": "code",
   "execution_count": null,
   "id": "4ceaf881",
   "metadata": {},
   "outputs": [],
   "source": [
    "params = { \n",
    "    \"iterations\": 150,\n",
    "    \"depth\": 8,\n",
    "    \"verbose\": 10, \n",
    "    'random_state': 40, \n",
    "    'verbose': False\n",
    "}   "
   ]
  },
  {
   "cell_type": "markdown",
   "id": "f2a84b39",
   "metadata": {},
   "source": [
    "## Accuracy of prediction based on all features"
   ]
  },
  {
   "cell_type": "code",
   "execution_count": null,
   "id": "248746e3",
   "metadata": {},
   "outputs": [],
   "source": [
    "model = CatBoostRegressor(**params)\n",
    "model.fit(X_train, y_train)\n",
    "train_predictions = model.predict(X_train)\n",
    "test_predictions = model.predict(X_test)\n",
    "r2_insample = r2_score(y_true=y_train, y_pred=train_predictions)\n",
    "r2_outsample = r2_score(y_true=y_test, y_pred=test_predictions)\n",
    "print(f'In-sample R2 score: {r2_insample}')\n",
    "print(f'Out-sample R2 score: {r2_outsample}')\n"
   ]
  },
  {
   "cell_type": "markdown",
   "id": "3098c67e",
   "metadata": {},
   "source": [
    "## Accuracy of prediction based on KSG selection"
   ]
  },
  {
   "cell_type": "code",
   "execution_count": null,
   "id": "8d6b728f",
   "metadata": {},
   "outputs": [],
   "source": [
    "X_train_ksg = X_train.loc[:, ksg_selection]\n",
    "X_test_ksg = X_test.loc[:, ksg_selection]\n",
    "model_ksg = CatBoostRegressor(**params)\n",
    "model_ksg.fit(X_train_ksg, y_train)\n",
    "train_predictions_ksg = model_ksg.predict(X_train_ksg)\n",
    "test_predictions_ksg = model_ksg.predict(X_test_ksg)\n",
    "r2_insample_ksg = r2_score(y_true=y_train, y_pred=train_predictions_ksg)\n",
    "r2_outsample_ksg = r2_score(y_true=y_test, y_pred=test_predictions_ksg)\n",
    "print(f'In-sample R2 score with KSG selection: {r2_insample_ksg}')\n",
    "print(f'Out-sample R2 score with KSG selection: {r2_outsample_ksg}')"
   ]
  },
  {
   "cell_type": "markdown",
   "id": "3194de40",
   "metadata": {},
   "source": [
    "## Accuracy of prediction based on HSIC selection"
   ]
  },
  {
   "cell_type": "code",
   "execution_count": null,
   "id": "d6aa82a5",
   "metadata": {},
   "outputs": [],
   "source": [
    " X_train_hsic = X_train.loc[:, hsic_selection]\n",
    "X_test_hsic = X_test.loc[:, hsic_selection]\n",
    "model_hsic = CatBoostRegressor(**params)\n",
    "model_hsic.fit(X_train_hsic, y_train)\n",
    "train_predictions_hsic = model_hsic.predict(X_train_hsic)\n",
    "test_predictions_hsic = model_hsic.predict(X_test_hsic)\n",
    "r2_insample_hsic = r2_score(y_true=y_train, y_pred=train_predictions_hsic)\n",
    "r2_outsample_hsic = r2_score(y_true=y_test, y_pred=test_predictions_hsic)\n",
    "print(f'In-sample R2 score: {r2_insample_hsic}')\n",
    "print(f'Out-sample R2 score: {r2_outsample_hsic}')\n"
   ]
  },
  {
   "cell_type": "markdown",
   "id": "87a29040",
   "metadata": {},
   "source": [
    "## Accuracy of prediction based on boruta selection"
   ]
  },
  {
   "cell_type": "code",
   "execution_count": null,
   "id": "05b2e27c",
   "metadata": {},
   "outputs": [],
   "source": [
    "X_train_boruta = X_train.loc[:, boruta_selection]\n",
    "X_test_boruta = X_test.loc[:, boruta_selection]\n",
    "model_boruta = CatBoostRegressor(**params)\n",
    "model_boruta.fit(X_train_boruta, y_train)\n",
    "train_predictions_boruta = model_boruta.predict(X_train_boruta)\n",
    "test_predictions_boruta = model_boruta.predict(X_test_boruta)\n",
    "r2_insample_boruta = r2_score(\n",
    "    y_true=y_train, y_pred=train_predictions_boruta)\n",
    "r2_outsample_boruta = r2_score(\n",
    "    y_true=y_test, y_pred=test_predictions_boruta)\n",
    "print(f'In-sample R2 score: {r2_insample_boruta}')\n",
    "print(f'Out-sample R2 score: {r2_outsample_boruta}')\n"
   ]
  },
  {
   "cell_type": "code",
   "execution_count": null,
   "id": "85d09235",
   "metadata": {},
   "outputs": [],
   "source": []
  }
 ],
 "metadata": {
  "kernelspec": {
   "display_name": "minervaexperiment",
   "language": "python",
   "name": "minervaexperiment"
  },
  "language_info": {
   "codemirror_mode": {
    "name": "ipython",
    "version": 3
   },
   "file_extension": ".py",
   "mimetype": "text/x-python",
   "name": "python",
   "nbconvert_exporter": "python",
   "pygments_lexer": "ipython3",
   "version": "3.9.15"
  }
 },
 "nbformat": 4,
 "nbformat_minor": 5
}
