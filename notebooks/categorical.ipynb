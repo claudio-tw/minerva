{
 "cells": [
  {
   "cell_type": "code",
   "execution_count": null,
   "id": "3ea27168",
   "metadata": {},
   "outputs": [],
   "source": [
    "from pathlib import Path\n",
    "import pandas as pd\n",
    "import numpy as np\n",
    "\n",
    "import minerva"
   ]
  },
  {
   "cell_type": "code",
   "execution_count": null,
   "id": "8b71b994",
   "metadata": {},
   "outputs": [],
   "source": [
    "pth = Path('./data/categorical')\n",
    "pth.mkdir(exist_ok=True, parents=True)"
   ]
  },
  {
   "cell_type": "code",
   "execution_count": null,
   "id": "62500056",
   "metadata": {},
   "outputs": [],
   "source": [
    "# Parameters for the synthetis of data\n",
    "n = 50000\n",
    "num_samples = n\n",
    "dx = 10\n",
    "num_relevant = 2\n",
    "feat_sizes = np.random.randint(low=7, high=10, size=(dx))\n",
    "dy = 1 \n",
    "train_size = int(.66 * n)\n",
    "val_size = int(.15 * n)\n",
    "test_size = n - train_size - val_size"
   ]
  },
  {
   "cell_type": "code",
   "execution_count": null,
   "id": "e3741376",
   "metadata": {},
   "outputs": [],
   "source": [
    "# Synthesize the data\n",
    "xs = [\n",
    "        np.random.randint(low=0, high=size, size=(n, 1))\n",
    "        for size in feat_sizes\n",
    "]\n",
    "x = np.concatenate(xs, axis=1)\n",
    "expected = np.random.choice(dx, replace=False, size=num_relevant)\n",
    "y = np.zeros(shape=(n,), dtype=int)\n",
    "for f0, f1 in zip(expected[:-1], expected[1:]):\n",
    "    x0 = x[:, f0] / feat_sizes[f0]\n",
    "    x1 = x[:, f1] / feat_sizes[f1]\n",
    "    y += np.array(x0 > x1, dtype=int)\n",
    "    \n",
    "feature_cols = [f'f{n}' for n in range(dx)]\n",
    "float_features = []\n",
    "cat_features = feature_cols\n",
    "expected_features = list(np.array(feature_cols)[expected])\n",
    "targets = [f'y{n}' for n in range(dy)]\n",
    "targets = targets\n",
    "xdf = pd.DataFrame(\n",
    "    x,\n",
    "    columns=feature_cols\n",
    ")\n",
    "ydf = pd.DataFrame(\n",
    "    y,\n",
    "    columns=targets\n",
    ")\n",
    "data = pd.concat((xdf, ydf), axis=1)\n",
    "train_data = data.iloc[:train_size]\n",
    "val_data = data.iloc[train_size: train_size + val_size]\n",
    "test_data = data.iloc[train_size + val_size:]\n",
    "\n",
    "num_cat_features = len(cat_features)\n",
    "num_cont_features = 0"
   ]
  },
  {
   "cell_type": "code",
   "execution_count": null,
   "id": "67fa0116",
   "metadata": {},
   "outputs": [],
   "source": [
    "# Set hyperparameters\n",
    "projection_init = np.array(\n",
    "    [.10] * num_cat_features + [.10] * num_cont_features\n",
    ")   \n",
    "\n",
    "# Design architecture\n",
    "dimension_of_residual_block = 512 \n",
    "num_res_layers = 4 \n",
    "scaler = 2 \n",
    "emb_dim = 4 \n",
    "reg_coef = 1e5 "
   ]
  },
  {
   "cell_type": "code",
   "execution_count": null,
   "id": "5b887ddd",
   "metadata": {},
   "outputs": [],
   "source": [
    "# Batches and epochs\n",
    "max_epochs = int(2000*scaler)\n",
    "batch_size = scaler*1200"
   ]
  },
  {
   "cell_type": "code",
   "execution_count": null,
   "id": "b82bce97",
   "metadata": {},
   "outputs": [],
   "source": [
    "# Pack hyperparameters\n",
    "selector_params = dict(\n",
    "    cat_features=cat_features,\n",
    "    float_features=float_features,\n",
    "    targets=targets,\n",
    "    dim1_max=dimension_of_residual_block,\n",
    "    num_res_layers=num_res_layers,\n",
    "    eps=.001,\n",
    "    cat_feat_sizes=feat_sizes,\n",
    "    emb_dim=emb_dim,\n",
    ")   "
   ]
  },
  {
   "cell_type": "code",
   "execution_count": null,
   "id": "e8b077d5",
   "metadata": {},
   "outputs": [],
   "source": [
    "noreg_train_control = minerva.feature_selection.TrainControl(\n",
    "    number_of_epochs=4000,\n",
    "    number_of_segments=1,\n",
    "    data_path='./data/categorical',\n",
    "    model_name='noreg',\n",
    "    learning_rate=1e-5,\n",
    "    reg_coef=0.0,\n",
    "    projection_init=projection_init,\n",
    "    disable_projection=True,\n",
    ")"
   ]
  },
  {
   "cell_type": "code",
   "execution_count": null,
   "id": "e0860c0a",
   "metadata": {},
   "outputs": [],
   "source": [
    "select_train_control = minerva.feature_selection.TrainControl(\n",
    "    number_of_epochs=4000,\n",
    "    number_of_segments=1,\n",
    "    data_path='./data/categorical',\n",
    "    model_name='selection',\n",
    "    learning_rate=1e-5,\n",
    "    reg_coef=1e5,\n",
    "    projection_init=None,\n",
    "    disable_projection=False,\n",
    ")"
   ]
  },
  {
   "cell_type": "code",
   "execution_count": null,
   "id": "bd032aa5",
   "metadata": {},
   "outputs": [],
   "source": [
    "logger_params = dict(\n",
    "    name=\"example_cat\"\n",
    ")\n"
   ]
  },
  {
   "cell_type": "code",
   "execution_count": null,
   "id": "c054f593",
   "metadata": {},
   "outputs": [],
   "source": [
    "selector = minerva.feature_selection.run(\n",
    "    train_data,\n",
    "    val_data,\n",
    "    test_data,\n",
    "    float_features,\n",
    "    cat_features,\n",
    "    targets,\n",
    "    selector_params,\n",
    "    logger_params,\n",
    "    noreg_train_control,\n",
    "    select_train_control,\n",
    "    batch_size,\n",
    ")\n",
    "\n",
    "print(f'Expected features: {expected}')\n",
    "print(f'Selected features: {selector.selected_feature_names()}')"
   ]
  },
  {
   "cell_type": "code",
   "execution_count": null,
   "id": "90bbb658",
   "metadata": {},
   "outputs": [],
   "source": [
    "# print results\n",
    "print(\n",
    "    f'Normalised coefficients of the projection matrix:\\n{selector.normalized_proj()}\\n')\n",
    "print(f'Selected features:\\n{selector.selected_feature_names()}\\n')\n",
    "print(f'Expected features:\\n{expected_features}\\n')\n"
   ]
  },
  {
   "cell_type": "code",
   "execution_count": null,
   "id": "171ee37a",
   "metadata": {},
   "outputs": [],
   "source": [
    "print(f'Mutual information on train dataset: {float(selector.train_mutual_information())}')\n",
    "print(f'Mutual information on val dataset: {float(selector.val_mutual_information())}')\n",
    "print(f'Mutual information on test dataset: {float(selector.test_mutual_information())}')"
   ]
  }
 ],
 "metadata": {
  "kernelspec": {
   "display_name": "minerva",
   "language": "python",
   "name": "minerva"
  },
  "language_info": {
   "codemirror_mode": {
    "name": "ipython",
    "version": 3
   },
   "file_extension": ".py",
   "mimetype": "text/x-python",
   "name": "python",
   "nbconvert_exporter": "python",
   "pygments_lexer": "ipython3",
   "version": "3.9.15"
  }
 },
 "nbformat": 4,
 "nbformat_minor": 5
}
