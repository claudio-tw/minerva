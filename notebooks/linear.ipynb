{
 "cells": [
  {
   "cell_type": "code",
   "execution_count": null,
   "id": "a473f5e9",
   "metadata": {},
   "outputs": [],
   "source": [
    "import numpy as np\n",
    "import pandas as pd\n",
    "import torch\n",
    "import pytorch_lightning as pl\n",
    "from pytorch_lightning.loggers import TensorBoardLogger\n",
    "\n",
    "from minerva import select, normalize\n",
    "from minerva.iterable_dataset import MyDataset, MyIterableDataset"
   ]
  },
  {
   "cell_type": "code",
   "execution_count": null,
   "id": "ea7612d6",
   "metadata": {},
   "outputs": [],
   "source": [
    "torch.set_float32_matmul_precision(\"medium\")"
   ]
  },
  {
   "cell_type": "code",
   "execution_count": null,
   "id": "ddf3ba0f",
   "metadata": {},
   "outputs": [],
   "source": [
    "n = 50000\n",
    "dx = 10\n",
    "num_relevant = 2\n",
    "dy = 1\n",
    "train_size = int(.66 * n)\n",
    "val_size = int(.15 * n)\n",
    "test_size = n - train_size - val_size\n",
    "\n",
    "batch_size = 3000"
   ]
  },
  {
   "cell_type": "code",
   "execution_count": null,
   "id": "f75a5b90",
   "metadata": {},
   "outputs": [],
   "source": [
    "x = np.random.uniform(size=(n, dx))\n",
    "expected = np.random.choice(dx, replace=False, size=num_relevant)\n",
    "y = (\n",
    "    np.random.uniform(size=(1, dy, num_relevant)) @ np.expand_dims(x[:, expected], axis=2)\n",
    ")[:, :, 0]"
   ]
  },
  {
   "cell_type": "code",
   "execution_count": null,
   "id": "b0baaa82",
   "metadata": {},
   "outputs": [],
   "source": [
    "features_cols = [f'f{n}' for n in range(dx)]\n",
    "float_features = features_cols\n",
    "cat_features = []\n",
    "target_cols = [f'y{n}' for n in range(dy)]\n",
    "target_names = target_cols\n",
    "xdf = pd.DataFrame(\n",
    "        x,\n",
    "        columns=features_cols\n",
    "    )                                                                                                \n",
    "ydf = pd.DataFrame(                                                                                \n",
    "    y,\n",
    "    columns=target_cols                                                                         \n",
    ")\n",
    "data = pd.concat((xdf, ydf), axis=1) \n",
    "train_data = data.iloc[:train_size]\n",
    "val_data = data.iloc[train_size: train_size + val_size]\n",
    "test_data = data.iloc[train_size + val_size:]"
   ]
  },
  {
   "cell_type": "code",
   "execution_count": null,
   "id": "cc62cd90",
   "metadata": {},
   "outputs": [],
   "source": [
    "dn = normalize.DatasetNormalizer(float_cols=features_cols + target_cols, categorical_cols=[])\n",
    "train_data = dn.fit_transform(train_data)\n",
    "val_data = dn.transform(val_data)\n",
    "test_data = dn.transform(test_data)"
   ]
  },
  {
   "cell_type": "code",
   "execution_count": null,
   "id": "701be695",
   "metadata": {},
   "outputs": [],
   "source": [
    "train_dataset = MyDataset(\n",
    "    train_data,\n",
    "    float_features,\n",
    "    cat_features,\n",
    "    target_names\n",
    ")\n",
    "val_dataset = MyDataset(\n",
    "    val_data,\n",
    "    float_features,\n",
    "    cat_features,\n",
    "    target_names\n",
    ")\n",
    "test_dataset = MyDataset(\n",
    "    test_data,\n",
    "    float_features,\n",
    "    cat_features,\n",
    "    target_names\n",
    ")"
   ]
  },
  {
   "cell_type": "code",
   "execution_count": null,
   "id": "aebc8cd8",
   "metadata": {},
   "outputs": [],
   "source": [
    "train_dataloader = MyIterableDataset(train_dataset, batch_size=batch_size)\n",
    "val_dataloader = MyIterableDataset(val_dataset, batch_size=batch_size)\n",
    "test_dataloader = MyIterableDataset(test_dataset, batch_size=batch_size)"
   ]
  },
  {
   "cell_type": "code",
   "execution_count": null,
   "id": "63531045",
   "metadata": {},
   "outputs": [],
   "source": [
    "dimension_of_residual_block = 200\n",
    "lr = 1e-4\n",
    "num_res_layers = 3\n",
    "regularization_coef = 1e1\n",
    "max_epochs = 500"
   ]
  },
  {
   "cell_type": "code",
   "execution_count": null,
   "id": "da0471a2",
   "metadata": {},
   "outputs": [],
   "source": [
    "selector = select.Selector(\n",
    "    feature_cols=features_cols,\n",
    "    cat_feature_encoder=dn.cat_enc,\n",
    "    target_cols=target_names,\n",
    "    dim1_max=dimension_of_residual_block,\n",
    "    lr=lr,\n",
    "    num_res_layers=num_res_layers,\n",
    "    regularization_coef=regularization_coef,\n",
    ")"
   ]
  },
  {
   "cell_type": "code",
   "execution_count": null,
   "id": "936192b5",
   "metadata": {},
   "outputs": [],
   "source": [
    "selector.set_loaders(train_dataloader, val_dataloader, test_dataloader)"
   ]
  },
  {
   "cell_type": "code",
   "execution_count": null,
   "id": "e258950a",
   "metadata": {},
   "outputs": [],
   "source": [
    "logger = TensorBoardLogger(\"tb_logs\", name='linear')\n",
    "trainer = pl.Trainer(\n",
    "    gradient_clip_val=.5,\n",
    "    accelerator=\"auto\",\n",
    "    log_every_n_steps=10,\n",
    "    max_epochs=max_epochs,\n",
    "    logger=logger\n",
    ")"
   ]
  },
  {
   "cell_type": "code",
   "execution_count": null,
   "id": "29b7cc50",
   "metadata": {},
   "outputs": [],
   "source": [
    "trainer.fit(\n",
    "    selector,\n",
    "    train_dataloaders=train_dataloader,\n",
    "    val_dataloaders=val_dataloader\n",
    ")"
   ]
  },
  {
   "cell_type": "code",
   "execution_count": null,
   "id": "90bbb658",
   "metadata": {},
   "outputs": [],
   "source": [
    "# print results\n",
    "print(\n",
    "    f'Normalised coefficients of the projection matrix:\\n{selector.normalized_proj()}\\n')\n",
    "print(f'Selected features:\\n{selector.selected_feature_names()}\\n')\n",
    "print(f'Expected features\\n{expected}\\n')\n"
   ]
  }
 ],
 "metadata": {
  "kernelspec": {
   "display_name": "minerva",
   "language": "python",
   "name": "minerva"
  },
  "language_info": {
   "codemirror_mode": {
    "name": "ipython",
    "version": 3
   },
   "file_extension": ".py",
   "mimetype": "text/x-python",
   "name": "python",
   "nbconvert_exporter": "python",
   "pygments_lexer": "ipython3",
   "version": "3.9.15"
  }
 },
 "nbformat": 4,
 "nbformat_minor": 5
}
