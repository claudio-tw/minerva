{
 "cells": [
  {
   "cell_type": "code",
   "execution_count": null,
   "id": "3ea27168",
   "metadata": {},
   "outputs": [],
   "source": [
    "from pathlib import Path\n",
    "import pandas as pd\n",
    "import numpy as np\n",
    "\n",
    "import minerva"
   ]
  },
  {
   "cell_type": "code",
   "execution_count": null,
   "id": "8b71b994",
   "metadata": {},
   "outputs": [],
   "source": [
    "pth = Path('./data/linear')\n",
    "pth.mkdir(exist_ok=True, parents=True)"
   ]
  },
  {
   "cell_type": "code",
   "execution_count": null,
   "id": "62500056",
   "metadata": {},
   "outputs": [],
   "source": [
    "# Parameters for the synthetis of data\n",
    "n = 50000\n",
    "dx = 10\n",
    "num_relevant = 2 \n",
    "dy = 1 \n",
    "train_size = int(.66 * n)\n",
    "val_size = int(.15 * n)\n",
    "test_size = n - train_size - val_size"
   ]
  },
  {
   "cell_type": "code",
   "execution_count": null,
   "id": "04b4157b",
   "metadata": {},
   "outputs": [],
   "source": [
    "# Set metaparameters\n",
    "\n",
    "num_samples = n\n",
    "# The below makes things quite slow; 256 and 3 seem to perform almost as well, but way faster\n",
    "dimension_of_residual_block = 512\n",
    "num_res_layers = 4\n",
    "scaler = 2  # Scaler = 4 did the best so far, scaler=8 diverged\n",
    "batch_size = scaler*2048\n",
    "num_batches = num_samples // batch_size\n",
    "max_epochs =  int(2000*scaler)  # to keep the number of batches constant\n",
    "\n",
    "lr = 1e-5  # scaling that as sqrt(scaler) didn't seem to work"
   ]
  },
  {
   "cell_type": "code",
   "execution_count": null,
   "id": "e3741376",
   "metadata": {},
   "outputs": [],
   "source": [
    "# Synthesize the data\n",
    "x = np.random.uniform(size=(n, dx))\n",
    "expected = np.random.choice(dx, replace=False, size=num_relevant)\n",
    "y = ( \n",
    "    np.random.uniform(size=(1, dy, num_relevant)\n",
    "                      ) @ np.expand_dims(x[:, expected], axis=2)\n",
    ")[:, :, 0]\n",
    "feature_cols = [f'f{n}' for n in range(dx)]\n",
    "float_features = feature_cols\n",
    "cat_features = []\n",
    "expected_features = list(np.array(feature_cols)[expected])\n",
    "targets = [f'y{n}' for n in range(dy)]\n",
    "targets = targets\n",
    "xdf = pd.DataFrame(\n",
    "    x,\n",
    "    columns=feature_cols\n",
    ")\n",
    "ydf = pd.DataFrame(\n",
    "    y,\n",
    "    columns=targets\n",
    ")\n",
    "data = pd.concat((xdf, ydf), axis=1)\n",
    "train_data = data.iloc[:train_size]\n",
    "val_data = data.iloc[train_size: train_size + val_size]\n",
    "test_data = data.iloc[train_size + val_size:]\n",
    "\n",
    "num_cat_features = len(cat_features)\n",
    "num_cont_features = len(float_features)"
   ]
  },
  {
   "cell_type": "code",
   "execution_count": null,
   "id": "67fa0116",
   "metadata": {},
   "outputs": [],
   "source": [
    "# Design architecture\n",
    "dimension_of_residual_block = 512 \n",
    "num_res_layers = 4 \n",
    "scaler = 2 \n",
    "emb_dim = 4 \n",
    "reg_coef = 1e5 "
   ]
  },
  {
   "cell_type": "code",
   "execution_count": null,
   "id": "5b887ddd",
   "metadata": {},
   "outputs": [],
   "source": [
    "# Batches and epochs\n",
    "max_epochs = int(2000*scaler)\n",
    "batch_size = scaler*1200"
   ]
  },
  {
   "cell_type": "code",
   "execution_count": null,
   "id": "b82bce97",
   "metadata": {},
   "outputs": [],
   "source": [
    "# Pack hyperparameters\n",
    "selector_params = dict(\n",
    "    cat_features=cat_features,\n",
    "    float_features=float_features,\n",
    "    targets=targets,\n",
    "    dim1_max=dimension_of_residual_block,\n",
    "    num_res_layers=num_res_layers,\n",
    "    eps=.001,\n",
    "    cat_feat_sizes=[],\n",
    "    emb_dim=emb_dim,\n",
    ")   "
   ]
  },
  {
   "cell_type": "code",
   "execution_count": null,
   "id": "e8b077d5",
   "metadata": {},
   "outputs": [],
   "source": [
    "noreg_train_control = minerva.feature_selection.TrainControl(\n",
    "    number_of_epochs=4000,\n",
    "    number_of_segments=1,\n",
    "    data_path='./data/linear',\n",
    "    model_name='noreg',\n",
    "    learning_rate=1e-5,\n",
    "    reg_coef=0.0,\n",
    "    projection_init=.3, \n",
    "    disable_projection=True\n",
    ")"
   ]
  },
  {
   "cell_type": "code",
   "execution_count": null,
   "id": "e0860c0a",
   "metadata": {},
   "outputs": [],
   "source": [
    "select_train_control = minerva.feature_selection.TrainControl(\n",
    "    number_of_epochs=4000,\n",
    "    number_of_segments=2,\n",
    "    data_path='./data/linear',\n",
    "    model_name='selection',\n",
    "    learning_rate=1e-6,\n",
    "    reg_coef=1e3,\n",
    "    projection_init=None,\n",
    "    disable_projection=False,\n",
    ")"
   ]
  },
  {
   "cell_type": "code",
   "execution_count": null,
   "id": "bd032aa5",
   "metadata": {},
   "outputs": [],
   "source": [
    "logger_params = dict(\n",
    "    name=\"example_linear\"\n",
    ")"
   ]
  },
  {
   "cell_type": "code",
   "execution_count": null,
   "id": "c054f593",
   "metadata": {},
   "outputs": [],
   "source": [
    "selector = minerva.feature_selection.run(\n",
    "    train_data,\n",
    "    val_data,\n",
    "    test_data,\n",
    "    float_features,\n",
    "    cat_features,\n",
    "    targets,\n",
    "    selector_params,\n",
    "    logger_params,\n",
    "    noreg_train_control,\n",
    "    select_train_control,\n",
    "    batch_size,\n",
    ")\n",
    "\n",
    "print(f'Expected features: {expected_features}')\n",
    "print(f'Selected features: {selector.selected_feature_names()}')"
   ]
  },
  {
   "cell_type": "code",
   "execution_count": null,
   "id": "90bbb658",
   "metadata": {},
   "outputs": [],
   "source": [
    "# print results\n",
    "print(\n",
    "    f'Normalised coefficients of the projection matrix:\\n{selector.normalized_proj()}\\n')\n",
    "print(f'Selected features:\\n{selector.selected_feature_names()}\\n')\n",
    "print(f'Expected features:\\n{expected_features}\\n')"
   ]
  },
  {
   "cell_type": "code",
   "execution_count": null,
   "id": "171ee37a",
   "metadata": {},
   "outputs": [],
   "source": [
    "print(f'Mutual information on train dataset: {float(selector.train_mutual_information())}')\n",
    "print(f'Mutual information on val dataset: {float(selector.val_mutual_information())}')\n",
    "print(f'Mutual information on test dataset: {float(selector.test_mutual_information())}')"
   ]
  }
 ],
 "metadata": {
  "kernelspec": {
   "display_name": "minerva",
   "language": "python",
   "name": "minerva"
  },
  "language_info": {
   "codemirror_mode": {
    "name": "ipython",
    "version": 3
   },
   "file_extension": ".py",
   "mimetype": "text/x-python",
   "name": "python",
   "nbconvert_exporter": "python",
   "pygments_lexer": "ipython3",
   "version": "3.9.15"
  }
 },
 "nbformat": 4,
 "nbformat_minor": 5
}
